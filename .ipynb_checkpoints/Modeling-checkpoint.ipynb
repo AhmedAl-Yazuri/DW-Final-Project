{
 "cells": [
  {
   "cell_type": "code",
   "execution_count": 6,
   "id": "9952f05d",
   "metadata": {},
   "outputs": [
    {
     "data": {
      "text/plain": [
       "{'dbname': 'Data',\n",
       " 'user': 'postgres',\n",
       " 'password': '2003',\n",
       " 'host': 'localhost',\n",
       " 'port': '5432'}"
      ]
     },
     "execution_count": 6,
     "metadata": {},
     "output_type": "execute_result"
    }
   ],
   "source": [
    "{\n",
    "  \"dbname\": \"Data\",\n",
    "  \"user\": \"postgres\",\n",
    "  \"password\": \"2003\",\n",
    "  \"host\": \"localhost\",\n",
    "  \"port\": \"5432\"\n",
    "}\n"
   ]
  },
  {
   "cell_type": "code",
   "execution_count": 7,
   "id": "772f1463",
   "metadata": {
    "scrolled": false
   },
   "outputs": [
    {
     "name": "stdout",
     "output_type": "stream",
     "text": [
      "Data warehouse schema dropped, recreated, and populated successfully.\n"
     ]
    }
   ],
   "source": [
    "from sqlalchemy import create_engine, text\n",
    "import json\n",
    "\n",
    "# Load DB configuration\n",
    "with open('config/db_config.json') as config_file:\n",
    "    config = json.load(config_file)\n",
    "\n",
    "DB_URI = f\"postgresql+psycopg2://{config['user']}:{config['password']}@{config['host']}:{config['port']}/{config['dbname']}\"\n",
    "engine = create_engine(DB_URI)\n",
    "\n",
    "try:\n",
    "    # Read the SQL schema from file\n",
    "    with open('dw_schema.sql', 'r') as file:\n",
    "        schema_sql = file.read()\n",
    "\n",
    "    # Execute the schema creation\n",
    "    with engine.connect() as conn:\n",
    "        conn.execute(text(schema_sql))\n",
    "        print(\"Data warehouse schema dropped, recreated, and populated successfully.\")\n",
    "\n",
    "except Exception as e:\n",
    "    print(f\"An error occurred: {e}\")\n"
   ]
  },
  {
   "cell_type": "code",
   "execution_count": null,
   "id": "e26ce0b3",
   "metadata": {},
   "outputs": [],
   "source": []
  }
 ],
 "metadata": {
  "kernelspec": {
   "display_name": "Python 3 (ipykernel)",
   "language": "python",
   "name": "python3"
  },
  "language_info": {
   "codemirror_mode": {
    "name": "ipython",
    "version": 3
   },
   "file_extension": ".py",
   "mimetype": "text/x-python",
   "name": "python",
   "nbconvert_exporter": "python",
   "pygments_lexer": "ipython3",
   "version": "3.10.9"
  }
 },
 "nbformat": 4,
 "nbformat_minor": 5
}
