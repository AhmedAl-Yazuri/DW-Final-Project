{
 "cells": [
  {
   "cell_type": "code",
   "execution_count": 1,
   "id": "83986bac",
   "metadata": {},
   "outputs": [
    {
     "data": {
      "text/plain": [
       "{'dbname': 'Data',\n",
       " 'user': 'postgres',\n",
       " 'password': '2003',\n",
       " 'host': 'localhost',\n",
       " 'port': '5432'}"
      ]
     },
     "execution_count": 1,
     "metadata": {},
     "output_type": "execute_result"
    }
   ],
   "source": [
    "{\n",
    "  \"dbname\": \"Data\",\n",
    "  \"user\": \"postgres\",\n",
    "  \"password\": \"2003\",\n",
    "  \"host\": \"localhost\",\n",
    "  \"port\": \"5432\"\n",
    "}\n"
   ]
  },
  {
   "cell_type": "code",
   "execution_count": 4,
   "id": "a7736640",
   "metadata": {},
   "outputs": [
    {
     "name": "stdout",
     "output_type": "stream",
     "text": [
      "Ingesting Sales_2015.csv into table sales_2015...\n",
      "sales_2015 ingestion complete.\n",
      "Ingesting Sales_2016.csv into table sales_2016...\n",
      "sales_2016 ingestion complete.\n",
      "Ingesting Sales_2017.csv into table sales_2017...\n",
      "sales_2017 ingestion complete.\n",
      "Ingesting Territories.csv into table territories...\n",
      "territories ingestion complete.\n",
      "Ingesting Calendar.csv into table calendar...\n",
      "calendar ingestion complete.\n",
      "Ingesting Customers.csv into table customers...\n",
      "UnicodeDecodeError: Trying with ISO-8859-1 encoding for Customers.csv\n",
      "customers ingestion complete.\n",
      "Ingesting Product_Categories.csv into table product_categories...\n",
      "product_categories ingestion complete.\n",
      "Ingesting Product_Subcategories.csv into table product_subcategories...\n",
      "product_subcategories ingestion complete.\n",
      "Ingesting Products.csv into table products...\n",
      "products ingestion complete.\n",
      "Ingesting Returns.csv into table returns...\n",
      "returns ingestion complete.\n",
      "All files ingested successfully.\n"
     ]
    }
   ],
   "source": [
    "from sqlalchemy import create_engine\n",
    "import pandas as pd\n",
    "import json\n",
    "import os\n",
    "\n",
    "# Load DB configuration\n",
    "with open('config/db_config.json') as config_file:\n",
    "    config = json.load(config_file)\n",
    "\n",
    "DB_URI = f\"postgresql://{config['user']}:{config['password']}@{config['host']}:{config['port']}/{config['dbname']}\"\n",
    "\n",
    "engine = create_engine(DB_URI)\n",
    "\n",
    "# Directory path for raw data\n",
    "data_dir = '' \n",
    "\n",
    "files = {\n",
    "    'sales_2015': 'Sales_2015.csv',\n",
    "    'sales_2016': 'Sales_2016.csv',\n",
    "    'sales_2017': 'Sales_2017.csv',\n",
    "    'territories': 'Territories.csv',\n",
    "    'calendar': 'Calendar.csv',\n",
    "    'customers': 'Customers.csv',\n",
    "    'product_categories': 'Product_Categories.csv',\n",
    "    'product_subcategories': 'Product_Subcategories.csv',\n",
    "    'products': 'Products.csv',\n",
    "    'returns': 'Returns.csv'\n",
    "}\n",
    "# Ingest data into PostgreSQL\n",
    "def ingest_file(file_name, table_name):\n",
    "    file_path = os.path.join(data_dir, file_name)\n",
    "    print(f\"Ingesting {file_name} into table {table_name}...\")\n",
    "    \n",
    "    if not os.path.exists(file_path):\n",
    "        print(f\"Error: File {file_path} not found.\")\n",
    "        return\n",
    "    try:\n",
    "        df = pd.read_csv(file_path, encoding='utf-8')\n",
    "    except UnicodeDecodeError:\n",
    "        print(f\"UnicodeDecodeError: Trying with ISO-8859-1 encoding for {file_name}\")\n",
    "\n",
    "        df = pd.read_csv(file_path, encoding='ISO-8859-1')\n",
    "    \n",
    "    df.to_sql(table_name, engine, if_exists='replace', index=False)\n",
    "    print(f\"{table_name} ingestion complete.\")\n",
    "\n",
    "# Loop through files and ingest them\n",
    "for table_name, file_name in files.items():\n",
    "    ingest_file(file_name, table_name)\n",
    "\n",
    "print(\"All files ingested successfully.\")\n"
   ]
  },
  {
   "cell_type": "code",
   "execution_count": null,
   "id": "2b77913f",
   "metadata": {},
   "outputs": [],
   "source": []
  }
 ],
 "metadata": {
  "kernelspec": {
   "display_name": "Python 3 (ipykernel)",
   "language": "python",
   "name": "python3"
  },
  "language_info": {
   "codemirror_mode": {
    "name": "ipython",
    "version": 3
   },
   "file_extension": ".py",
   "mimetype": "text/x-python",
   "name": "python",
   "nbconvert_exporter": "python",
   "pygments_lexer": "ipython3",
   "version": "3.10.9"
  }
 },
 "nbformat": 4,
 "nbformat_minor": 5
}
